{
 "cells": [
  {
   "cell_type": "code",
   "execution_count": 1,
   "metadata": {},
   "outputs": [],
   "source": [
    "# Import libraries\n",
    "import pickle\n",
    "import numpy as np\n",
    "import pandas as pd\n",
    "import matplotlib.pyplot as plt\n",
    "import seaborn as sns\n",
    "from sklearn import metrics\n",
    "from sklearn.impute import SimpleImputer\n",
    "from sklearn.model_selection import train_test_split, cross_val_score\n",
    "from sklearn.preprocessing import StandardScaler, LabelEncoder, MinMaxScaler\n",
    "from sklearn.metrics import classification_report\n",
    "from sklearn.tree import DecisionTreeClassifier\n",
    "from sklearn.naive_bayes import GaussianNB\n",
    "from sklearn.svm import SVC\n",
    "from sklearn.linear_model import LogisticRegression\n",
    "from sklearn.ensemble import RandomForestClassifier\n",
    "import xgboost as xgb\n",
    "import warnings\n",
    "warnings.filterwarnings('ignore')"
   ]
  },
  {
   "cell_type": "code",
   "execution_count": 2,
   "metadata": {},
   "outputs": [],
   "source": [
    "# Load dataset\n",
    "crop = pd.read_csv(\"../data/crop_recommendation.csv\")"
   ]
  },
  {
   "cell_type": "markdown",
   "metadata": {},
   "source": [
    "# Exploratory Data Analysis (EDA)"
   ]
  },
  {
   "cell_type": "code",
   "execution_count": 3,
   "metadata": {},
   "outputs": [
    {
     "data": {
      "text/html": [
       "<div>\n",
       "<style scoped>\n",
       "    .dataframe tbody tr th:only-of-type {\n",
       "        vertical-align: middle;\n",
       "    }\n",
       "\n",
       "    .dataframe tbody tr th {\n",
       "        vertical-align: top;\n",
       "    }\n",
       "\n",
       "    .dataframe thead th {\n",
       "        text-align: right;\n",
       "    }\n",
       "</style>\n",
       "<table border=\"1\" class=\"dataframe\">\n",
       "  <thead>\n",
       "    <tr style=\"text-align: right;\">\n",
       "      <th></th>\n",
       "      <th>N</th>\n",
       "      <th>P</th>\n",
       "      <th>K</th>\n",
       "      <th>temperature</th>\n",
       "      <th>humidity</th>\n",
       "      <th>ph</th>\n",
       "      <th>rainfall</th>\n",
       "      <th>label</th>\n",
       "    </tr>\n",
       "  </thead>\n",
       "  <tbody>\n",
       "    <tr>\n",
       "      <th>0</th>\n",
       "      <td>87.0</td>\n",
       "      <td>36.0</td>\n",
       "      <td>37.0</td>\n",
       "      <td>20.879744</td>\n",
       "      <td>82.002744</td>\n",
       "      <td>6.502985</td>\n",
       "      <td>202.935536</td>\n",
       "      <td>rice</td>\n",
       "    </tr>\n",
       "    <tr>\n",
       "      <th>1</th>\n",
       "      <td>74.0</td>\n",
       "      <td>49.0</td>\n",
       "      <td>40.0</td>\n",
       "      <td>21.770462</td>\n",
       "      <td>80.319644</td>\n",
       "      <td>7.038096</td>\n",
       "      <td>226.655537</td>\n",
       "      <td>rice</td>\n",
       "    </tr>\n",
       "    <tr>\n",
       "      <th>2</th>\n",
       "      <td>78.0</td>\n",
       "      <td>59.0</td>\n",
       "      <td>42.0</td>\n",
       "      <td>23.004459</td>\n",
       "      <td>82.320763</td>\n",
       "      <td>7.840207</td>\n",
       "      <td>263.964248</td>\n",
       "      <td>rice</td>\n",
       "    </tr>\n",
       "    <tr>\n",
       "      <th>3</th>\n",
       "      <td>69.0</td>\n",
       "      <td>56.0</td>\n",
       "      <td>36.0</td>\n",
       "      <td>26.491096</td>\n",
       "      <td>80.158363</td>\n",
       "      <td>6.980401</td>\n",
       "      <td>242.864034</td>\n",
       "      <td>rice</td>\n",
       "    </tr>\n",
       "    <tr>\n",
       "      <th>4</th>\n",
       "      <td>70.0</td>\n",
       "      <td>35.0</td>\n",
       "      <td>41.0</td>\n",
       "      <td>20.130175</td>\n",
       "      <td>81.604873</td>\n",
       "      <td>7.628473</td>\n",
       "      <td>262.717340</td>\n",
       "      <td>rice</td>\n",
       "    </tr>\n",
       "  </tbody>\n",
       "</table>\n",
       "</div>"
      ],
      "text/plain": [
       "      N     P     K  temperature   humidity        ph    rainfall label\n",
       "0  87.0  36.0  37.0    20.879744  82.002744  6.502985  202.935536  rice\n",
       "1  74.0  49.0  40.0    21.770462  80.319644  7.038096  226.655537  rice\n",
       "2  78.0  59.0  42.0    23.004459  82.320763  7.840207  263.964248  rice\n",
       "3  69.0  56.0  36.0    26.491096  80.158363  6.980401  242.864034  rice\n",
       "4  70.0  35.0  41.0    20.130175  81.604873  7.628473  262.717340  rice"
      ]
     },
     "execution_count": 3,
     "metadata": {},
     "output_type": "execute_result"
    }
   ],
   "source": [
    "crop.head()"
   ]
  },
  {
   "cell_type": "code",
   "execution_count": 4,
   "metadata": {},
   "outputs": [
    {
     "data": {
      "text/html": [
       "<div>\n",
       "<style scoped>\n",
       "    .dataframe tbody tr th:only-of-type {\n",
       "        vertical-align: middle;\n",
       "    }\n",
       "\n",
       "    .dataframe tbody tr th {\n",
       "        vertical-align: top;\n",
       "    }\n",
       "\n",
       "    .dataframe thead th {\n",
       "        text-align: right;\n",
       "    }\n",
       "</style>\n",
       "<table border=\"1\" class=\"dataframe\">\n",
       "  <thead>\n",
       "    <tr style=\"text-align: right;\">\n",
       "      <th></th>\n",
       "      <th>N</th>\n",
       "      <th>P</th>\n",
       "      <th>K</th>\n",
       "      <th>temperature</th>\n",
       "      <th>humidity</th>\n",
       "      <th>ph</th>\n",
       "      <th>rainfall</th>\n",
       "      <th>label</th>\n",
       "    </tr>\n",
       "  </thead>\n",
       "  <tbody>\n",
       "    <tr>\n",
       "      <th>2195</th>\n",
       "      <td>39.0</td>\n",
       "      <td>60.0</td>\n",
       "      <td>21.0</td>\n",
       "      <td>26.774637</td>\n",
       "      <td>66.413269</td>\n",
       "      <td>6.780064</td>\n",
       "      <td>177.774507</td>\n",
       "      <td>coffee</td>\n",
       "    </tr>\n",
       "    <tr>\n",
       "      <th>2196</th>\n",
       "      <td>33.0</td>\n",
       "      <td>56.0</td>\n",
       "      <td>24.0</td>\n",
       "      <td>27.417112</td>\n",
       "      <td>56.636362</td>\n",
       "      <td>6.086922</td>\n",
       "      <td>127.924610</td>\n",
       "      <td>coffee</td>\n",
       "    </tr>\n",
       "    <tr>\n",
       "      <th>2197</th>\n",
       "      <td>4.0</td>\n",
       "      <td>80.0</td>\n",
       "      <td>19.0</td>\n",
       "      <td>24.131797</td>\n",
       "      <td>67.225123</td>\n",
       "      <td>6.362608</td>\n",
       "      <td>173.322839</td>\n",
       "      <td>coffee</td>\n",
       "    </tr>\n",
       "    <tr>\n",
       "      <th>2198</th>\n",
       "      <td>5.0</td>\n",
       "      <td>78.0</td>\n",
       "      <td>25.0</td>\n",
       "      <td>26.272418</td>\n",
       "      <td>52.127394</td>\n",
       "      <td>6.758793</td>\n",
       "      <td>127.175293</td>\n",
       "      <td>coffee</td>\n",
       "    </tr>\n",
       "    <tr>\n",
       "      <th>2199</th>\n",
       "      <td>16.0</td>\n",
       "      <td>55.0</td>\n",
       "      <td>25.0</td>\n",
       "      <td>23.603016</td>\n",
       "      <td>60.396475</td>\n",
       "      <td>6.779833</td>\n",
       "      <td>140.937041</td>\n",
       "      <td>coffee</td>\n",
       "    </tr>\n",
       "  </tbody>\n",
       "</table>\n",
       "</div>"
      ],
      "text/plain": [
       "         N     P     K  temperature   humidity        ph    rainfall   label\n",
       "2195  39.0  60.0  21.0    26.774637  66.413269  6.780064  177.774507  coffee\n",
       "2196  33.0  56.0  24.0    27.417112  56.636362  6.086922  127.924610  coffee\n",
       "2197   4.0  80.0  19.0    24.131797  67.225123  6.362608  173.322839  coffee\n",
       "2198   5.0  78.0  25.0    26.272418  52.127394  6.758793  127.175293  coffee\n",
       "2199  16.0  55.0  25.0    23.603016  60.396475  6.779833  140.937041  coffee"
      ]
     },
     "execution_count": 4,
     "metadata": {},
     "output_type": "execute_result"
    }
   ],
   "source": [
    "crop.tail()"
   ]
  },
  {
   "cell_type": "code",
   "execution_count": 5,
   "metadata": {},
   "outputs": [
    {
     "data": {
      "text/plain": [
       "17600"
      ]
     },
     "execution_count": 5,
     "metadata": {},
     "output_type": "execute_result"
    }
   ],
   "source": [
    "crop.size"
   ]
  },
  {
   "cell_type": "code",
   "execution_count": 6,
   "metadata": {},
   "outputs": [
    {
     "data": {
      "text/plain": [
       "(2200, 8)"
      ]
     },
     "execution_count": 6,
     "metadata": {},
     "output_type": "execute_result"
    }
   ],
   "source": [
    "crop.shape"
   ]
  },
  {
   "cell_type": "code",
   "execution_count": 7,
   "metadata": {},
   "outputs": [
    {
     "data": {
      "text/plain": [
       "Index(['N', 'P', 'K', 'temperature', 'humidity', 'ph', 'rainfall', 'label'], dtype='object')"
      ]
     },
     "execution_count": 7,
     "metadata": {},
     "output_type": "execute_result"
    }
   ],
   "source": [
    "crop.columns"
   ]
  },
  {
   "cell_type": "code",
   "execution_count": 8,
   "metadata": {},
   "outputs": [
    {
     "data": {
      "text/plain": [
       "array(['rice', 'maize', 'chickpea', 'kidneybeans', 'pigeonpeas',\n",
       "       'mothbeans', 'mungbean', 'blackgram', 'lentil', 'pomegranate',\n",
       "       'banana', 'mango', 'grapes', 'watermelon', 'muskmelon', 'apple',\n",
       "       'orange', 'papaya', 'coconut', 'cotton', 'jute', 'coffee'],\n",
       "      dtype=object)"
      ]
     },
     "execution_count": 8,
     "metadata": {},
     "output_type": "execute_result"
    }
   ],
   "source": [
    "crop['label'].unique()"
   ]
  },
  {
   "cell_type": "code",
   "execution_count": 9,
   "metadata": {},
   "outputs": [
    {
     "data": {
      "text/plain": [
       "N              float64\n",
       "P              float64\n",
       "K              float64\n",
       "temperature    float64\n",
       "humidity       float64\n",
       "ph             float64\n",
       "rainfall       float64\n",
       "label           object\n",
       "dtype: object"
      ]
     },
     "execution_count": 9,
     "metadata": {},
     "output_type": "execute_result"
    }
   ],
   "source": [
    "crop.dtypes"
   ]
  },
  {
   "cell_type": "code",
   "execution_count": 10,
   "metadata": {},
   "outputs": [
    {
     "data": {
      "text/plain": [
       "rice           100\n",
       "maize          100\n",
       "jute           100\n",
       "cotton         100\n",
       "coconut        100\n",
       "papaya         100\n",
       "orange         100\n",
       "apple          100\n",
       "muskmelon      100\n",
       "watermelon     100\n",
       "grapes         100\n",
       "mango          100\n",
       "banana         100\n",
       "pomegranate    100\n",
       "lentil         100\n",
       "blackgram      100\n",
       "mungbean       100\n",
       "mothbeans      100\n",
       "pigeonpeas     100\n",
       "kidneybeans    100\n",
       "chickpea       100\n",
       "coffee         100\n",
       "Name: label, dtype: int64"
      ]
     },
     "execution_count": 10,
     "metadata": {},
     "output_type": "execute_result"
    }
   ],
   "source": [
    "crop['label'].value_counts()"
   ]
  },
  {
   "cell_type": "code",
   "execution_count": 11,
   "metadata": {},
   "outputs": [
    {
     "data": {
      "text/html": [
       "<div>\n",
       "<style scoped>\n",
       "    .dataframe tbody tr th:only-of-type {\n",
       "        vertical-align: middle;\n",
       "    }\n",
       "\n",
       "    .dataframe tbody tr th {\n",
       "        vertical-align: top;\n",
       "    }\n",
       "\n",
       "    .dataframe thead th {\n",
       "        text-align: right;\n",
       "    }\n",
       "</style>\n",
       "<table border=\"1\" class=\"dataframe\">\n",
       "  <thead>\n",
       "    <tr style=\"text-align: right;\">\n",
       "      <th></th>\n",
       "      <th>N</th>\n",
       "      <th>P</th>\n",
       "      <th>K</th>\n",
       "      <th>temperature</th>\n",
       "      <th>humidity</th>\n",
       "      <th>ph</th>\n",
       "      <th>rainfall</th>\n",
       "    </tr>\n",
       "  </thead>\n",
       "  <tbody>\n",
       "    <tr>\n",
       "      <th>count</th>\n",
       "      <td>1300.000000</td>\n",
       "      <td>1300.000000</td>\n",
       "      <td>1300.000000</td>\n",
       "      <td>2200.000000</td>\n",
       "      <td>2200.000000</td>\n",
       "      <td>2200.000000</td>\n",
       "      <td>2200.000000</td>\n",
       "    </tr>\n",
       "    <tr>\n",
       "      <th>mean</th>\n",
       "      <td>40.792308</td>\n",
       "      <td>50.706923</td>\n",
       "      <td>46.183846</td>\n",
       "      <td>25.616244</td>\n",
       "      <td>71.481779</td>\n",
       "      <td>6.469480</td>\n",
       "      <td>103.463655</td>\n",
       "    </tr>\n",
       "    <tr>\n",
       "      <th>std</th>\n",
       "      <td>29.882808</td>\n",
       "      <td>30.858456</td>\n",
       "      <td>47.656416</td>\n",
       "      <td>5.063749</td>\n",
       "      <td>22.263812</td>\n",
       "      <td>0.773938</td>\n",
       "      <td>54.958389</td>\n",
       "    </tr>\n",
       "    <tr>\n",
       "      <th>min</th>\n",
       "      <td>0.000000</td>\n",
       "      <td>5.000000</td>\n",
       "      <td>5.000000</td>\n",
       "      <td>8.825675</td>\n",
       "      <td>14.258040</td>\n",
       "      <td>3.504752</td>\n",
       "      <td>20.211267</td>\n",
       "    </tr>\n",
       "    <tr>\n",
       "      <th>25%</th>\n",
       "      <td>19.000000</td>\n",
       "      <td>28.000000</td>\n",
       "      <td>21.000000</td>\n",
       "      <td>22.769375</td>\n",
       "      <td>60.261953</td>\n",
       "      <td>5.971693</td>\n",
       "      <td>64.551686</td>\n",
       "    </tr>\n",
       "    <tr>\n",
       "      <th>50%</th>\n",
       "      <td>33.000000</td>\n",
       "      <td>50.000000</td>\n",
       "      <td>33.000000</td>\n",
       "      <td>25.598693</td>\n",
       "      <td>80.473146</td>\n",
       "      <td>6.425045</td>\n",
       "      <td>94.867624</td>\n",
       "    </tr>\n",
       "    <tr>\n",
       "      <th>75%</th>\n",
       "      <td>60.000000</td>\n",
       "      <td>64.000000</td>\n",
       "      <td>45.000000</td>\n",
       "      <td>28.561654</td>\n",
       "      <td>89.948771</td>\n",
       "      <td>6.923643</td>\n",
       "      <td>124.267508</td>\n",
       "    </tr>\n",
       "    <tr>\n",
       "      <th>max</th>\n",
       "      <td>120.000000</td>\n",
       "      <td>145.000000</td>\n",
       "      <td>205.000000</td>\n",
       "      <td>43.675493</td>\n",
       "      <td>99.981876</td>\n",
       "      <td>9.935091</td>\n",
       "      <td>298.560117</td>\n",
       "    </tr>\n",
       "  </tbody>\n",
       "</table>\n",
       "</div>"
      ],
      "text/plain": [
       "                 N            P            K  temperature     humidity  \\\n",
       "count  1300.000000  1300.000000  1300.000000  2200.000000  2200.000000   \n",
       "mean     40.792308    50.706923    46.183846    25.616244    71.481779   \n",
       "std      29.882808    30.858456    47.656416     5.063749    22.263812   \n",
       "min       0.000000     5.000000     5.000000     8.825675    14.258040   \n",
       "25%      19.000000    28.000000    21.000000    22.769375    60.261953   \n",
       "50%      33.000000    50.000000    33.000000    25.598693    80.473146   \n",
       "75%      60.000000    64.000000    45.000000    28.561654    89.948771   \n",
       "max     120.000000   145.000000   205.000000    43.675493    99.981876   \n",
       "\n",
       "                ph     rainfall  \n",
       "count  2200.000000  2200.000000  \n",
       "mean      6.469480   103.463655  \n",
       "std       0.773938    54.958389  \n",
       "min       3.504752    20.211267  \n",
       "25%       5.971693    64.551686  \n",
       "50%       6.425045    94.867624  \n",
       "75%       6.923643   124.267508  \n",
       "max       9.935091   298.560117  "
      ]
     },
     "execution_count": 11,
     "metadata": {},
     "output_type": "execute_result"
    }
   ],
   "source": [
    "crop.describe()"
   ]
  },
  {
   "cell_type": "code",
   "execution_count": 12,
   "metadata": {},
   "outputs": [
    {
     "data": {
      "text/plain": [
       "<AxesSubplot:>"
      ]
     },
     "execution_count": 12,
     "metadata": {},
     "output_type": "execute_result"
    },
    {
     "data": {
      "image/png": "[encoded data removed]",
      "text/plain": [
       "<Figure size 432x288 with 2 Axes>"
      ]
     },
     "metadata": {
      "needs_background": "light"
     },
     "output_type": "display_data"
    }
   ],
   "source": [
    "# Visualize correlation matrix\n",
    "sns.heatmap(crop.corr(), annot=True)"
   ]
  },
  {
   "cell_type": "markdown",
   "metadata": {},
   "source": [
    "# Machine Learning - Model Training"
   ]
  },
  {
   "cell_type": "markdown",
   "metadata": {},
   "source": [
    "### Seperating features and target label"
   ]
  },
  {
   "cell_type": "code",
   "execution_count": 13,
   "metadata": {},
   "outputs": [],
   "source": [
    "# Separating features and target label\n",
    "features = crop[['N', 'P', 'K', 'temperature', 'humidity', 'ph', 'rainfall']]\n",
    "target = crop['label']"
   ]
  },
  {
   "cell_type": "code",
   "execution_count": 14,
   "metadata": {},
   "outputs": [],
   "source": [
    "# Initialzing empty lists to append all model's name and corresponding name\n",
    "acc = []\n",
    "model = []"
   ]
  },
  {
   "cell_type": "code",
   "execution_count": 15,
   "metadata": {},
   "outputs": [],
   "source": [
    "# Train-test split\n",
    "Xtrain, Xtest, Ytrain, Ytest = train_test_split(features, target, test_size=0.2, random_state=2)\n",
    "\n",
    "# Handle missing values in features\n",
    "imputer = SimpleImputer(strategy='mean')\n",
    "Xtrain_imputed = imputer.fit_transform(Xtrain)\n",
    "features_imputed = imputer.fit_transform(features)\n",
    "\n",
    "# Handle missing values in target variable (if necessary)\n",
    "Ytrain.dropna(inplace=True)\n",
    "\n",
    "# Train-test split with imputed features and non-missing target\n",
    "Xtrain, Xtest, Ytrain, Ytest = train_test_split(Xtrain_imputed, Ytrain, test_size=0.2, random_state=2)"
   ]
  },
  {
   "cell_type": "markdown",
   "metadata": {},
   "source": [
    "# Decision Tree"
   ]
  },
  {
   "cell_type": "code",
   "execution_count": 16,
   "metadata": {},
   "outputs": [
    {
     "name": "stdout",
     "output_type": "stream",
     "text": [
      "Decision Tree's Accuracy is:  94.60227272727273\n",
      "              precision    recall  f1-score   support\n",
      "\n",
      "       apple       0.82      1.00      0.90        18\n",
      "      banana       1.00      1.00      1.00        18\n",
      "   blackgram       0.96      1.00      0.98        22\n",
      "    chickpea       1.00      0.86      0.92        14\n",
      "     coconut       0.86      1.00      0.93        19\n",
      "      coffee       1.00      1.00      1.00        11\n",
      "      cotton       1.00      1.00      1.00        16\n",
      "      grapes       1.00      1.00      1.00        17\n",
      "        jute       1.00      1.00      1.00         5\n",
      " kidneybeans       1.00      1.00      1.00        20\n",
      "      lentil       1.00      1.00      1.00        15\n",
      "       maize       0.94      1.00      0.97        15\n",
      "       mango       1.00      1.00      1.00        16\n",
      "   mothbeans       1.00      1.00      1.00        17\n",
      "    mungbean       1.00      1.00      1.00        15\n",
      "   muskmelon       1.00      1.00      1.00        14\n",
      "      orange       0.46      0.50      0.48        12\n",
      "      papaya       0.83      0.88      0.86        17\n",
      "  pigeonpeas       1.00      1.00      1.00        18\n",
      " pomegranate       1.00      0.44      0.61        16\n",
      "        rice       1.00      1.00      1.00        19\n",
      "  watermelon       1.00      1.00      1.00        18\n",
      "\n",
      "    accuracy                           0.95       352\n",
      "   macro avg       0.95      0.94      0.94       352\n",
      "weighted avg       0.95      0.95      0.94       352\n",
      "\n"
     ]
    }
   ],
   "source": [
    "# Initialize Decision Tree classifier\n",
    "decision_tree = DecisionTreeClassifier(criterion=\"entropy\", random_state=2, max_depth=5)\n",
    "\n",
    "# Fit the model on the training data\n",
    "decision_tree.fit(Xtrain, Ytrain)\n",
    "\n",
    "# Make predictions on the testing data\n",
    "predicted_values_dt = decision_tree.predict(Xtest)\n",
    "\n",
    "# Calculate accuracy\n",
    "accuracy_dt = metrics.accuracy_score(Ytest, predicted_values_dt)\n",
    "\n",
    "# Append accuracy and model name to respective lists\n",
    "acc.append(accuracy_dt)\n",
    "model.append('Decision Tree')\n",
    "\n",
    "# Print accuracy\n",
    "print(\"Decision Tree's Accuracy is: \", accuracy_dt * 100)\n",
    "\n",
    "# Print classification report\n",
    "print(classification_report(Ytest, predicted_values_dt))"
   ]
  },
  {
   "cell_type": "code",
   "execution_count": 17,
   "metadata": {},
   "outputs": [
    {
     "data": {
      "text/plain": [
       "array([0.92727273, 0.94772727, 0.94318182, 0.94545455, 0.93409091])"
      ]
     },
     "execution_count": 17,
     "metadata": {},
     "output_type": "execute_result"
    }
   ],
   "source": [
    "# Cross validation score (Decision Tree)\n",
    "score_dt = cross_val_score(decision_tree, features_imputed, target, cv=5)\n",
    "score_dt"
   ]
  },
  {
   "cell_type": "markdown",
   "metadata": {},
   "source": [
    "### Saving trained Decision Tree model"
   ]
  },
  {
   "cell_type": "code",
   "execution_count": 18,
   "metadata": {},
   "outputs": [],
   "source": [
    "with open('../models/crop recommendation/decision_tree.pkl', 'wb') as f:\n",
    "    pickle.dump(decision_tree, f)"
   ]
  },
  {
   "cell_type": "markdown",
   "metadata": {},
   "source": [
    "# Guassian Naive Bayes"
   ]
  },
  {
   "cell_type": "code",
   "execution_count": 19,
   "metadata": {},
   "outputs": [
    {
     "name": "stdout",
     "output_type": "stream",
     "text": [
      "Naive Bayes's Accuracy is:  98.29545454545455\n",
      "              precision    recall  f1-score   support\n",
      "\n",
      "       apple       0.89      0.94      0.92        18\n",
      "      banana       0.95      1.00      0.97        18\n",
      "   blackgram       1.00      1.00      1.00        22\n",
      "    chickpea       1.00      1.00      1.00        14\n",
      "     coconut       1.00      1.00      1.00        19\n",
      "      coffee       1.00      1.00      1.00        11\n",
      "      cotton       1.00      1.00      1.00        16\n",
      "      grapes       1.00      1.00      1.00        17\n",
      "        jute       1.00      1.00      1.00         5\n",
      " kidneybeans       1.00      1.00      1.00        20\n",
      "      lentil       1.00      1.00      1.00        15\n",
      "       maize       1.00      1.00      1.00        15\n",
      "       mango       1.00      1.00      1.00        16\n",
      "   mothbeans       1.00      1.00      1.00        17\n",
      "    mungbean       1.00      1.00      1.00        15\n",
      "   muskmelon       1.00      1.00      1.00        14\n",
      "      orange       0.92      0.92      0.92        12\n",
      "      papaya       0.94      1.00      0.97        17\n",
      "  pigeonpeas       1.00      1.00      1.00        18\n",
      " pomegranate       0.92      0.75      0.83        16\n",
      "        rice       1.00      1.00      1.00        19\n",
      "  watermelon       1.00      1.00      1.00        18\n",
      "\n",
      "    accuracy                           0.98       352\n",
      "   macro avg       0.98      0.98      0.98       352\n",
      "weighted avg       0.98      0.98      0.98       352\n",
      "\n"
     ]
    }
   ],
   "source": [
    "# Initialize Gaussian Naive Bayes classifier\n",
    "naive_bayes = GaussianNB()\n",
    "\n",
    "# Fit the model on the training data\n",
    "naive_bayes.fit(Xtrain, Ytrain)\n",
    "\n",
    "# Make predictions on the testing data\n",
    "predicted_values_nb = naive_bayes.predict(Xtest)\n",
    "\n",
    "# Calculate accuracy\n",
    "accuracy_nb = metrics.accuracy_score(Ytest, predicted_values_nb)\n",
    "\n",
    "# Append accuracy and model name to respective lists\n",
    "acc.append(accuracy_nb)\n",
    "model.append('Naive Bayes')\n",
    "\n",
    "# Print accuracy\n",
    "print(\"Naive Bayes's Accuracy is: \", accuracy_nb * 100)\n",
    "\n",
    "# Print classification report\n",
    "print(classification_report(Ytest, predicted_values_nb))"
   ]
  },
  {
   "cell_type": "code",
   "execution_count": 20,
   "metadata": {},
   "outputs": [
    {
     "data": {
      "text/plain": [
       "array([0.98409091, 0.97272727, 0.97954545, 0.97727273, 0.975     ])"
      ]
     },
     "execution_count": 20,
     "metadata": {},
     "output_type": "execute_result"
    }
   ],
   "source": [
    "# Cross validation score (Naive Bayes)\n",
    "score_nb = cross_val_score(naive_bayes, features_imputed, target, cv=5)\n",
    "score_nb"
   ]
  },
  {
   "cell_type": "markdown",
   "metadata": {},
   "source": [
    "### Saving trained Guassian Naive Bayes model"
   ]
  },
  {
   "cell_type": "code",
   "execution_count": 21,
   "metadata": {},
   "outputs": [],
   "source": [
    "with open('../models/crop recommendation/naive_bayes.pkl', 'wb') as f:\n",
    "    pickle.dump(naive_bayes, f)"
   ]
  },
  {
   "cell_type": "markdown",
   "metadata": {},
   "source": [
    "# Support Vector Machine (SVM)"
   ]
  },
  {
   "cell_type": "code",
   "execution_count": 22,
   "metadata": {},
   "outputs": [
    {
     "name": "stdout",
     "output_type": "stream",
     "text": [
      "SVM's Accuracy is:  95.73863636363636\n",
      "              precision    recall  f1-score   support\n",
      "\n",
      "       apple       0.82      1.00      0.90        18\n",
      "      banana       0.90      1.00      0.95        18\n",
      "   blackgram       1.00      1.00      1.00        22\n",
      "    chickpea       1.00      1.00      1.00        14\n",
      "     coconut       0.95      1.00      0.97        19\n",
      "      coffee       0.92      1.00      0.96        11\n",
      "      cotton       1.00      1.00      1.00        16\n",
      "      grapes       1.00      1.00      1.00        17\n",
      "        jute       1.00      0.80      0.89         5\n",
      " kidneybeans       1.00      1.00      1.00        20\n",
      "      lentil       1.00      1.00      1.00        15\n",
      "       maize       1.00      1.00      1.00        15\n",
      "       mango       1.00      1.00      1.00        16\n",
      "   mothbeans       1.00      1.00      1.00        17\n",
      "    mungbean       1.00      1.00      1.00        15\n",
      "   muskmelon       1.00      1.00      1.00        14\n",
      "      orange       0.86      0.50      0.63        12\n",
      "      papaya       0.84      0.94      0.89        17\n",
      "  pigeonpeas       1.00      1.00      1.00        18\n",
      " pomegranate       0.82      0.56      0.67        16\n",
      "        rice       1.00      1.00      1.00        19\n",
      "  watermelon       0.95      1.00      0.97        18\n",
      "\n",
      "    accuracy                           0.96       352\n",
      "   macro avg       0.96      0.95      0.95       352\n",
      "weighted avg       0.96      0.96      0.95       352\n",
      "\n"
     ]
    }
   ],
   "source": [
    "# Normalize data\n",
    "norm = MinMaxScaler().fit(Xtrain)\n",
    "X_train_norm = norm.transform(Xtrain)\n",
    "X_test_norm = norm.transform(Xtest)\n",
    "\n",
    "# Initialize SVM classifier\n",
    "svm = SVC(kernel='poly', degree=3, C=1)\n",
    "\n",
    "# Fit the model on the normalized training data\n",
    "svm.fit(X_train_norm, Ytrain)\n",
    "\n",
    "# Make predictions on the normalized testing data\n",
    "predicted_values_svm = svm.predict(X_test_norm)\n",
    "\n",
    "# Calculate accuracy\n",
    "accuracy_svm = metrics.accuracy_score(Ytest, predicted_values_svm)\n",
    "\n",
    "# Append accuracy and model name to respective lists\n",
    "acc.append(accuracy_svm)\n",
    "model.append('SVM')\n",
    "\n",
    "# Print accuracy\n",
    "print(\"SVM's Accuracy is: \", accuracy_svm * 100)\n",
    "\n",
    "# Print classification report\n",
    "print(classification_report(Ytest, predicted_values_svm))"
   ]
  },
  {
   "cell_type": "code",
   "execution_count": 23,
   "metadata": {},
   "outputs": [
    {
     "data": {
      "text/plain": [
       "array([0.91136364, 0.91590909, 0.91818182, 0.91818182, 0.925     ])"
      ]
     },
     "execution_count": 23,
     "metadata": {},
     "output_type": "execute_result"
    }
   ],
   "source": [
    "# Cross validation score (SVM)\n",
    "score_svm = cross_val_score(svm, features_imputed, target, cv=5)\n",
    "score_svm"
   ]
  },
  {
   "cell_type": "markdown",
   "metadata": {},
   "source": [
    "### Saving trained SVM model"
   ]
  },
  {
   "cell_type": "code",
   "execution_count": 24,
   "metadata": {},
   "outputs": [],
   "source": [
    "with open('../models/crop recommendation/svm_classifier.pkl', 'wb') as f:\n",
    "    pickle.dump(svm, f)"
   ]
  },
  {
   "cell_type": "markdown",
   "metadata": {},
   "source": [
    "# Logistic Regression"
   ]
  },
  {
   "cell_type": "code",
   "execution_count": 25,
   "metadata": {},
   "outputs": [
    {
     "name": "stdout",
     "output_type": "stream",
     "text": [
      "Logistic Regression's Accuracy is:  89.48863636363636\n",
      "              precision    recall  f1-score   support\n",
      "\n",
      "       apple       0.65      0.94      0.77        18\n",
      "      banana       0.78      1.00      0.88        18\n",
      "   blackgram       1.00      1.00      1.00        22\n",
      "    chickpea       0.93      1.00      0.97        14\n",
      "     coconut       1.00      0.84      0.91        19\n",
      "      coffee       0.92      1.00      0.96        11\n",
      "      cotton       1.00      1.00      1.00        16\n",
      "      grapes       0.75      0.71      0.73        17\n",
      "        jute       1.00      0.80      0.89         5\n",
      " kidneybeans       1.00      1.00      1.00        20\n",
      "      lentil       1.00      0.93      0.97        15\n",
      "       maize       0.94      1.00      0.97        15\n",
      "       mango       1.00      1.00      1.00        16\n",
      "   mothbeans       1.00      1.00      1.00        17\n",
      "    mungbean       1.00      1.00      1.00        15\n",
      "   muskmelon       0.93      1.00      0.97        14\n",
      "      orange       0.78      0.58      0.67        12\n",
      "      papaya       0.68      0.76      0.72        17\n",
      "  pigeonpeas       1.00      0.94      0.97        18\n",
      " pomegranate       0.80      0.25      0.38        16\n",
      "        rice       0.95      1.00      0.97        19\n",
      "  watermelon       0.74      0.78      0.76        18\n",
      "\n",
      "    accuracy                           0.89       352\n",
      "   macro avg       0.90      0.89      0.89       352\n",
      "weighted avg       0.90      0.89      0.89       352\n",
      "\n"
     ]
    }
   ],
   "source": [
    "# Scale the features using StandardScaler\n",
    "scaler = StandardScaler()\n",
    "Xtrain_scaled = scaler.fit_transform(Xtrain)\n",
    "Xtest_scaled = scaler.transform(Xtest)\n",
    "\n",
    "# Initialize Logistic Regression classifier\n",
    "logistic_regression = LogisticRegression(random_state=2, max_iter=1000)\n",
    "\n",
    "# Fit the model on the scaled training data\n",
    "logistic_regression.fit(Xtrain_scaled, Ytrain)\n",
    "\n",
    "# Make predictions on the scaled testing data\n",
    "predicted_values_lr = logistic_regression.predict(Xtest_scaled)\n",
    "\n",
    "# Calculate accuracy\n",
    "accuracy_lr = metrics.accuracy_score(Ytest, predicted_values_lr)\n",
    "\n",
    "# Append accuracy and model name to respective lists\n",
    "acc.append(accuracy_lr)\n",
    "model.append('Logistic Regression')\n",
    "\n",
    "# Print accuracy\n",
    "print(\"Logistic Regression's Accuracy is: \", accuracy_lr * 100)\n",
    "\n",
    "# Print classification report\n",
    "print(classification_report(Ytest, predicted_values_lr))"
   ]
  },
  {
   "cell_type": "code",
   "execution_count": 26,
   "metadata": {},
   "outputs": [
    {
     "data": {
      "text/plain": [
       "array([0.93181818, 0.92045455, 0.90909091, 0.91363636, 0.92272727])"
      ]
     },
     "execution_count": 26,
     "metadata": {},
     "output_type": "execute_result"
    }
   ],
   "source": [
    "# Cross validation score (Logistic Regression)\n",
    "score_lr = cross_val_score(logistic_regression, features_imputed, target, cv=5)\n",
    "score_lr"
   ]
  },
  {
   "cell_type": "markdown",
   "metadata": {},
   "source": [
    "### Saving trained Logistic Regression model"
   ]
  },
  {
   "cell_type": "code",
   "execution_count": 27,
   "metadata": {},
   "outputs": [],
   "source": [
    "with open('../models/crop recommendation/logistic_regression.pkl', 'wb') as f:\n",
    "    pickle.dump(logistic_regression, f)"
   ]
  },
  {
   "cell_type": "markdown",
   "metadata": {},
   "source": [
    "# Random Forest"
   ]
  },
  {
   "cell_type": "code",
   "execution_count": 28,
   "metadata": {},
   "outputs": [
    {
     "name": "stdout",
     "output_type": "stream",
     "text": [
      "Random Forest's Accuracy is:  98.01136363636364\n",
      "              precision    recall  f1-score   support\n",
      "\n",
      "       apple       0.95      1.00      0.97        18\n",
      "      banana       1.00      1.00      1.00        18\n",
      "   blackgram       1.00      1.00      1.00        22\n",
      "    chickpea       1.00      1.00      1.00        14\n",
      "     coconut       1.00      1.00      1.00        19\n",
      "      coffee       1.00      1.00      1.00        11\n",
      "      cotton       1.00      1.00      1.00        16\n",
      "      grapes       1.00      1.00      1.00        17\n",
      "        jute       1.00      1.00      1.00         5\n",
      " kidneybeans       1.00      1.00      1.00        20\n",
      "      lentil       1.00      1.00      1.00        15\n",
      "       maize       1.00      1.00      1.00        15\n",
      "       mango       1.00      1.00      1.00        16\n",
      "   mothbeans       1.00      1.00      1.00        17\n",
      "    mungbean       1.00      1.00      1.00        15\n",
      "   muskmelon       1.00      1.00      1.00        14\n",
      "      orange       0.80      0.67      0.73        12\n",
      "      papaya       0.94      1.00      0.97        17\n",
      "  pigeonpeas       1.00      1.00      1.00        18\n",
      " pomegranate       0.81      0.81      0.81        16\n",
      "        rice       1.00      1.00      1.00        19\n",
      "  watermelon       1.00      1.00      1.00        18\n",
      "\n",
      "    accuracy                           0.98       352\n",
      "   macro avg       0.98      0.98      0.98       352\n",
      "weighted avg       0.98      0.98      0.98       352\n",
      "\n"
     ]
    }
   ],
   "source": [
    "# Initialize Random Forest classifier\n",
    "random_forest = RandomForestClassifier(n_estimators=20, random_state=0)\n",
    "\n",
    "# Fit the model on the training data\n",
    "random_forest.fit(Xtrain, Ytrain)\n",
    "\n",
    "# Make predictions on the testing data\n",
    "predicted_values_rf = random_forest.predict(Xtest)\n",
    "\n",
    "# Calculate accuracy\n",
    "accuracy_rf = metrics.accuracy_score(Ytest, predicted_values_rf)\n",
    "\n",
    "# Append accuracy and model name to respective lists\n",
    "acc.append(accuracy_rf)\n",
    "model.append('Random Forest')\n",
    "\n",
    "# Print accuracy\n",
    "print(\"Random Forest's Accuracy is: \", accuracy_rf * 100)\n",
    "\n",
    "# Print classification report\n",
    "print(classification_report(Ytest, predicted_values_rf))"
   ]
  },
  {
   "cell_type": "code",
   "execution_count": 29,
   "metadata": {},
   "outputs": [
    {
     "data": {
      "text/plain": [
       "array([0.98409091, 0.98409091, 0.97272727, 0.98409091, 0.97954545])"
      ]
     },
     "execution_count": 29,
     "metadata": {},
     "output_type": "execute_result"
    }
   ],
   "source": [
    "# Cross validation score (Random Forest)\n",
    "score_rf = cross_val_score(random_forest, features_imputed, target, cv=5)\n",
    "score_rf"
   ]
  },
  {
   "cell_type": "markdown",
   "metadata": {},
   "source": [
    "### Saving trained Random Forest model"
   ]
  },
  {
   "cell_type": "code",
   "execution_count": 30,
   "metadata": {},
   "outputs": [],
   "source": [
    "with open('../models/crop recommendation/random_forest.pkl', 'wb') as f:\n",
    "    pickle.dump(random_forest, f)"
   ]
  },
  {
   "cell_type": "markdown",
   "metadata": {},
   "source": [
    "# XGBoost"
   ]
  },
  {
   "cell_type": "code",
   "execution_count": 31,
   "metadata": {
    "scrolled": true
   },
   "outputs": [
    {
     "name": "stdout",
     "output_type": "stream",
     "text": [
      "XGBoost's Accuracy is:  98.29545454545455\n",
      "              precision    recall  f1-score   support\n",
      "\n",
      "           0       0.94      0.94      0.94        18\n",
      "           1       1.00      1.00      1.00        18\n",
      "           2       1.00      1.00      1.00        22\n",
      "           3       1.00      1.00      1.00        14\n",
      "           4       1.00      1.00      1.00        19\n",
      "           5       0.92      1.00      0.96        11\n",
      "           6       1.00      1.00      1.00        16\n",
      "           7       1.00      1.00      1.00        17\n",
      "           8       1.00      1.00      1.00         5\n",
      "           9       1.00      1.00      1.00        20\n",
      "          10       1.00      0.93      0.97        15\n",
      "          11       1.00      1.00      1.00        15\n",
      "          12       1.00      1.00      1.00        16\n",
      "          13       1.00      1.00      1.00        17\n",
      "          14       1.00      1.00      1.00        15\n",
      "          15       1.00      1.00      1.00        14\n",
      "          16       0.91      0.83      0.87        12\n",
      "          17       0.89      1.00      0.94        17\n",
      "          18       1.00      1.00      1.00        18\n",
      "          19       0.93      0.88      0.90        16\n",
      "          20       1.00      1.00      1.00        19\n",
      "          21       1.00      1.00      1.00        18\n",
      "\n",
      "    accuracy                           0.98       352\n",
      "   macro avg       0.98      0.98      0.98       352\n",
      "weighted avg       0.98      0.98      0.98       352\n",
      "\n"
     ]
    }
   ],
   "source": [
    "# Initialize LabelEncoder\n",
    "label_encoder = LabelEncoder()\n",
    "\n",
    "# Fit LabelEncoder and transform target variable Ytrain\n",
    "Ytrain_encoded = label_encoder.fit_transform(Ytrain)\n",
    "\n",
    "# Transform target variable Ytest using the same LabelEncoder instance\n",
    "Ytest_encoded = label_encoder.transform(Ytest)\n",
    "\n",
    "# Initialize XGBClassifier\n",
    "xgboost_classifier = xgb.XGBClassifier()\n",
    "\n",
    "# Fit XGBClassifier with encoded target variable\n",
    "xgboost_classifier.fit(Xtrain, Ytrain_encoded)\n",
    "\n",
    "# Make predictions on the testing data\n",
    "predicted_values_xgb = xgboost_classifier.predict(Xtest)\n",
    "\n",
    "# Calculate accuracy\n",
    "accuracy_xgb = metrics.accuracy_score(Ytest_encoded, predicted_values_xgb)\n",
    "\n",
    "# Append accuracy and model name to respective lists\n",
    "acc.append(accuracy_xgb)\n",
    "model.append('XGBoost')\n",
    "\n",
    "# Print accuracy\n",
    "print(\"XGBoost's Accuracy is: \", accuracy_xgb * 100)\n",
    "\n",
    "# Print classification report\n",
    "print(classification_report(Ytest_encoded, predicted_values_xgb))"
   ]
  },
  {
   "cell_type": "code",
   "execution_count": 32,
   "metadata": {
    "scrolled": true
   },
   "outputs": [
    {
     "data": {
      "text/plain": [
       "array([0.98295455, 0.97443182, 0.96875   , 0.98295455, 0.96590909])"
      ]
     },
     "execution_count": 32,
     "metadata": {},
     "output_type": "execute_result"
    }
   ],
   "source": [
    "# Train-test split for cross-validation\n",
    "Xtrain_cv, Xtest_cv, Ytrain_cv, Ytest_cv = train_test_split(features_imputed, target, test_size=0.2, random_state=2)\n",
    "\n",
    "# Encode target variable for cross-validation\n",
    "Ytrain_encoded_cv = label_encoder.transform(Ytrain_cv)\n",
    "\n",
    "# Cross validation score (XGBoost)\n",
    "score_xgb = cross_val_score(xgboost_classifier, Xtrain_cv, Ytrain_encoded_cv, cv=5)\n",
    "score_xgb"
   ]
  },
  {
   "cell_type": "markdown",
   "metadata": {},
   "source": [
    "### Saving trained XGBoost model"
   ]
  },
  {
   "cell_type": "code",
   "execution_count": 33,
   "metadata": {},
   "outputs": [],
   "source": [
    "with open('../models/crop recommendation/xg_boost.pkl', 'wb') as f:\n",
    "    pickle.dump(xgboost_classifier, f)"
   ]
  },
  {
   "cell_type": "markdown",
   "metadata": {},
   "source": [
    "# Accuracy Comparison"
   ]
  },
  {
   "cell_type": "code",
   "execution_count": 34,
   "metadata": {},
   "outputs": [
    {
     "name": "stdout",
     "output_type": "stream",
     "text": [
      "Decision Tree --> 0.9460227272727273\n",
      "Naive Bayes --> 0.9829545454545454\n",
      "SVM --> 0.9573863636363636\n",
      "Logistic Regression --> 0.8948863636363636\n",
      "Random Forest --> 0.9801136363636364\n",
      "XGBoost --> 0.9829545454545454\n"
     ]
    }
   ],
   "source": [
    "accuracy_models = dict(zip(model, acc))\n",
    "for _model,_acc in accuracy_models.items():\n",
    "    print(_model, '-->', _acc)"
   ]
  },
  {
   "cell_type": "code",
   "execution_count": 35,
   "metadata": {},
   "outputs": [
    {
     "data": {
      "image/png": "[encoded data removed]",
      "text/plain": [
       "<Figure size 1000x500 with 1 Axes>"
      ]
     },
     "metadata": {
      "needs_background": "light"
     },
     "output_type": "display_data"
    }
   ],
   "source": [
    "models = ['Decision Tree', 'Naive Bayes', 'SVM', 'Logistic Regression', 'Random Forest', 'XGBoost']\n",
    "accuracies = [accuracy_dt, accuracy_nb, accuracy_svm, accuracy_lr, accuracy_rf, accuracy_xgb]\n",
    "plt.figure(figsize=[10, 5], dpi=100)\n",
    "plt.title('Accuracy Comparison')\n",
    "plt.xlabel('Accuracy')\n",
    "plt.ylabel('Algorithm')\n",
    "sns.barplot(x=accuracies, y=models, palette='dark')\n",
    "plt.show()"
   ]
  },
  {
   "cell_type": "markdown",
   "metadata": {},
   "source": [
    "# Algorithm Analysis"
   ]
  },
  {
   "cell_type": "markdown",
   "metadata": {},
   "source": [
    "**Let's peform algorithm analysis to choose best algorithm for our crop recommendation system:**\n",
    "\n",
    "1. **Naive Bayes**:\n",
    "   - Average Validation Score: 0.9801136363636364\n",
    "   - Model Accuracy: 0.98409091\n",
    "   \n",
    "   \n",
    "2. **XGBoost**:\n",
    "   - Average Validation Score: 0.9829545454545454\n",
    "   - Model Accuracy: 0.97159091\n",
    "\n",
    "\n",
    "3. **Random Forest**:\n",
    "   - Average Validation Score: 0.9744318181818182\n",
    "   - Model Accuracy: 0.98409091\n",
    "\n",
    "\n",
    "4. **SVM (Support Vector Machine)**:\n",
    "   - Average Validation Score: 0.9602272727272727\n",
    "   - Model Accuracy: 0.91136364\n",
    "\n",
    "\n",
    "5. **Decision Tree**:\n",
    "   - Average Validation Score: 0.9403409090909091\n",
    "   - Model Accuracy: 0.950\n",
    "\n",
    "\n",
    "6. **Logistic Regression**:\n",
    "   - Average Validation Score: 0.8977272727272727\n",
    "   - Model Accuracy: 0.93863636\n",
    "\n",
    "<br>\n",
    "\n",
    "**Now, let's rank them based on these criteria:**\n",
    "\n",
    "1. **Naive Bayes**: Highest Validation Score (2nd) and High Model Accuracy (1st).\n",
    "\n",
    "2. **Random Forest**: Similar Validation Score as XGBoost (3rd) but higher Model Accuracy.\n",
    "\n",
    "3. **XGBoost**: Slightly lower Model Accuracy than Naive Bayes but has the highest Validation Score (1st).\n",
    "\n",
    "4. **Decision Tree**: Moderate Validation Score (5th) and Model Accuracy (4th).\n",
    "\n",
    "5. **SVM (Support Vector Machine)**: Moderate Validation Score (4th) but lower Model Accuracy (6th).\n",
    "\n",
    "6. **Logistic Regression**: Lowest Validation Score (6th) and Moderate Model Accuracy (5th).\n",
    "\n",
    "<br>\n",
    "\n",
    "**Based on these rankings, the order from best to worst considering both validation score and model accuracy would be:**\n",
    "\n",
    "1. Naive Bayes\n",
    "2. Random Forest\n",
    "3. XGBoost\n",
    "4. Decision Tree\n",
    "5. SVM\n",
    "6. Logistic Regression\n",
    "\n",
    "<br>\n",
    "\n",
    "**For our model we choose Random Forest over Naive Bayes.**\n",
    "\n",
    "<br>\n",
    "\n",
    "**Reasons:**\n",
    "\n",
    "| Aspect                     | Random Forest                                            | Naive Bayes                                                |\n",
    "|:---------------------------|:---------------------------------------------------------|:-----------------------------------------------------------|\n",
    "| **Model Complexity**       | Typically higher due to multiple decision trees, which can lead to overfitting if not tuned properly. | Simpler model architecture, less prone to overfitting.      |\n",
    "| **Handling Nonlinearity** | Effective at capturing complex, nonlinear relationships in data due to the ensemble of decision trees. | Assumes independence between features, may struggle with nonlinear relationships. |\n",
    "| **Robustness to Outliers** | Robust to outliers due to averaging predictions from multiple trees. | Sensitive to outliers as it assumes normal distribution of data. |\n",
    "| **Interpretability**       | Less interpretable due to the complexity of multiple decision trees. | More interpretable due to its simple probabilistic framework. |\n",
    "| **Scalability**            | May be slower and require more computational resources, especially with large datasets. | Faster and more computationally efficient, especially with large datasets. |\n",
    "| **Handling Missing Data**  | Can handle missing data well through techniques like imputation and averaging. | Requires handling missing data before training. Complete case analysis or imputation methods may be used. |\n",
    "| **Performance on Small Datasets** | May not perform well on small datasets due to overfitting. | Performs well on small datasets and requires fewer instances to train. |\n",
    "| **Performance with Categorical Features** | Handles categorical features well, including high-cardinality categorical variables. | Struggles with categorical features unless appropriately encoded or discretized. |\n",
    "| **Parameter Sensitivity**  | More parameters to tune, which can require more effort in optimization. | Fewer parameters to tune, making it easier to implement and less prone to overfitting in parameter tuning. |"
   ]
  },
  {
   "cell_type": "markdown",
   "metadata": {},
   "source": [
    "# Making a prediction"
   ]
  },
  {
   "cell_type": "code",
   "execution_count": 36,
   "metadata": {},
   "outputs": [
    {
     "name": "stdout",
     "output_type": "stream",
     "text": [
      "['pigeonpeas']\n"
     ]
    }
   ],
   "source": [
    "data = np.array([[104, 18, 30, 23.603016, 60.3, 6.7, 140.91]])\n",
    "prediction = random_forest.predict(data)\n",
    "print(prediction)"
   ]
  },
  {
   "cell_type": "code",
   "execution_count": 37,
   "metadata": {},
   "outputs": [
    {
     "name": "stdout",
     "output_type": "stream",
     "text": [
      "['pigeonpeas']\n"
     ]
    }
   ],
   "source": [
    "data = np.array([[83, 45, 60, 28, 70.3, 7.0, 150.9]])\n",
    "prediction = random_forest.predict(data)\n",
    "print(prediction)"
   ]
  }
 ],
 "metadata": {
  "kernelspec": {
   "display_name": "Python 3 (ipykernel)",
   "language": "python",
   "name": "python3"
  },
  "language_info": {
   "codemirror_mode": {
    "name": "ipython",
    "version": 3
   },
   "file_extension": ".py",
   "mimetype": "text/x-python",
   "name": "python",
   "nbconvert_exporter": "python",
   "pygments_lexer": "ipython3",
   "version": "3.9.12"
  }
 },
 "nbformat": 4,
 "nbformat_minor": 4
}
